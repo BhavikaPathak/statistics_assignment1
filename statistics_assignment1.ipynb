{
 "cells": [
  {
   "cell_type": "code",
   "execution_count": 1,
   "id": "86891220-c5a8-42fb-a060-e1f3ea10ff88",
   "metadata": {},
   "outputs": [],
   "source": [
    "#                                        ANSWER 1\n",
    "#statistics is at the core of sophisticated machine learning algorithms, capturing and translating data patterns into actionable evidence."
   ]
  },
  {
   "cell_type": "code",
   "execution_count": 2,
   "id": "2419797d-e515-4f40-9f91-94f8ef9d5b58",
   "metadata": {},
   "outputs": [],
   "source": [
    "#                                         ANSWER 2 \n",
    "\n",
    "# Statistics have majorly categorised into two types:\n",
    "# Descriptive statistics\n",
    "# Inferential statistics\n",
    "# Descriptive Statistics\n",
    "# In this type of statistics, the data is summarised through the given observations. The summarisation is one from a sample of population using parameters such as the mean or standard deviation.\n",
    "# Inferential Statistics\n",
    "#it is used to draw conclusions from the data that depends on random variations such as observational errors, sampling variation, etc.\n"
   ]
  },
  {
   "cell_type": "code",
   "execution_count": 8,
   "id": "dd384f19-e609-4c93-b715-a76d5f8a437f",
   "metadata": {},
   "outputs": [],
   "source": [
    "#                                     ANSWER 3\n",
    "# The data is classified into majorly categories:\n",
    "\n",
    "# Qualitative or Categorical Data ----->\n",
    "# Qualitative data, also known as the categorical data, describes the data that fits into the categories. Qualitative data are not numerical.\n",
    "# The Categorical data is classified into majorly categories:\n",
    "\n",
    "# Nominal data ----> Nominal data is one of the types of qualitative information which helps to label the variables without providing the numerical value. Nominal data is also called the nominal scale.\n",
    "# Examples of nominal data are letters, symbols, words, gender etc.\n",
    "# Ordinal data ----> Ordinal data/variable is a type of data that follows a natural order. The significant feature of the nominal data is that the difference between the data values is not determined. This variable is mostly found in surveys, finance, economics, questionnaires, and so on.\n",
    "\n",
    "# Quantitative or Numerical Data ----->\n",
    "# Quantitative data is also known as numerical data which represents the numerical value (i.e., how much, how often, how many). Numerical data gives information about the quantities of a specific thing.\n",
    "# The Quantitative or Numerical Data is classified into majorly categories:\n",
    "\n",
    "# Discrete data ----> Discrete data can take only discrete values. Discrete information contains only a finite number of possible values. Those values cannot be subdivided meaningfully. Here, things can be counted in whole numbers.\n",
    "# Example: Number of students in the class\n",
    "# Continuous data ----> Continuous data is data that can be calculated. It has an infinite number of probable values that can be selected within a given specific range.\n",
    "# Example: Temperature range"
   ]
  },
  {
   "cell_type": "code",
   "execution_count": 3,
   "id": "6ffc348b-0f08-43da-ba74-2b9ebe10543f",
   "metadata": {},
   "outputs": [
    {
     "data": {
      "text/html": [
       "<div>\n",
       "<style scoped>\n",
       "    .dataframe tbody tr th:only-of-type {\n",
       "        vertical-align: middle;\n",
       "    }\n",
       "\n",
       "    .dataframe tbody tr th {\n",
       "        vertical-align: top;\n",
       "    }\n",
       "\n",
       "    .dataframe thead th {\n",
       "        text-align: right;\n",
       "    }\n",
       "</style>\n",
       "<table border=\"1\" class=\"dataframe\">\n",
       "  <thead>\n",
       "    <tr style=\"text-align: right;\">\n",
       "      <th></th>\n",
       "      <th>Discrete Data</th>\n",
       "      <th>Continuous Data</th>\n",
       "    </tr>\n",
       "  </thead>\n",
       "  <tbody>\n",
       "    <tr>\n",
       "      <th>0</th>\n",
       "      <td>Discrete data are countable and finite; they a...</td>\n",
       "      <td>Continuous data are measurable; they are in th...</td>\n",
       "    </tr>\n",
       "    <tr>\n",
       "      <th>1</th>\n",
       "      <td>Discrete data are represented mainly by bar gr...</td>\n",
       "      <td>Continuous data are represented in the form of...</td>\n",
       "    </tr>\n",
       "    <tr>\n",
       "      <th>2</th>\n",
       "      <td>Examples: Total students in a class, number of...</td>\n",
       "      <td>Example: Temperature of room, the weight of a ...</td>\n",
       "    </tr>\n",
       "  </tbody>\n",
       "</table>\n",
       "</div>"
      ],
      "text/plain": [
       "                                       Discrete Data  \\\n",
       "0  Discrete data are countable and finite; they a...   \n",
       "1  Discrete data are represented mainly by bar gr...   \n",
       "2  Examples: Total students in a class, number of...   \n",
       "\n",
       "                                     Continuous Data  \n",
       "0  Continuous data are measurable; they are in th...  \n",
       "1  Continuous data are represented in the form of...  \n",
       "2  Example: Temperature of room, the weight of a ...  "
      ]
     },
     "execution_count": 3,
     "metadata": {},
     "output_type": "execute_result"
    }
   ],
   "source": [
    "#                                                  ANSWER 3 CONTINUE\n",
    "import pandas as pd \n",
    "data1 = [['Nominal data can’t be quantified, neither they have any intrinsic ordering' ,' Ordinal data gives some kind of sequential order by their position on the scale'],\n",
    "        ['Nominal data is qualitative data or categorical data' , 'Ordinal data is said to be “in-between” qualitative data and quantitative data'],\n",
    "        ['Examples: Eye color, housing style, gender, hair color, religion, marital status, ethnicity, etc ' , 'Examples: Economic status, customer satisfaction, education level, letter grades, etc']]\n",
    "df1 = pd.DataFrame(data1,columns=['Nominal Data', ' Ordinal Data'])\n",
    "df1\n",
    "\n",
    "\n",
    "data2 = [[ 'Discrete data are countable and finite; they are whole numbers or integers' , 'Continuous data are measurable; they are in the form of fractions or decimal'],\n",
    "         [ 'Discrete data are represented mainly by bar graphs' , 'Continuous data are represented in the form of a histogram'],\n",
    "         ['Examples: Total students in a class, number of days in a week, size of a shoe, etc' , 'Example: Temperature of room, the weight of a person, length of an object, etc']]\n",
    "df2 = pd.DataFrame(data2,columns=['Discrete Data' , 'Continuous Data'])\n",
    "df2"
   ]
  },
  {
   "cell_type": "code",
   "execution_count": 6,
   "id": "f6ed680a-d6f8-49e4-aff6-be4a4c9698b8",
   "metadata": {},
   "outputs": [
    {
     "name": "stdout",
     "output_type": "stream",
     "text": [
      " Difference between Nominal and Ordinal Data\n"
     ]
    },
    {
     "data": {
      "text/html": [
       "<div>\n",
       "<style scoped>\n",
       "    .dataframe tbody tr th:only-of-type {\n",
       "        vertical-align: middle;\n",
       "    }\n",
       "\n",
       "    .dataframe tbody tr th {\n",
       "        vertical-align: top;\n",
       "    }\n",
       "\n",
       "    .dataframe thead th {\n",
       "        text-align: right;\n",
       "    }\n",
       "</style>\n",
       "<table border=\"1\" class=\"dataframe\">\n",
       "  <thead>\n",
       "    <tr style=\"text-align: right;\">\n",
       "      <th></th>\n",
       "      <th>Nominal Data</th>\n",
       "      <th>Ordinal Data</th>\n",
       "    </tr>\n",
       "  </thead>\n",
       "  <tbody>\n",
       "    <tr>\n",
       "      <th>0</th>\n",
       "      <td>Nominal data can’t be quantified, neither they...</td>\n",
       "      <td>Ordinal data gives some kind of sequential or...</td>\n",
       "    </tr>\n",
       "    <tr>\n",
       "      <th>1</th>\n",
       "      <td>Nominal data is qualitative data or categorica...</td>\n",
       "      <td>Ordinal data is said to be “in-between” qualit...</td>\n",
       "    </tr>\n",
       "    <tr>\n",
       "      <th>2</th>\n",
       "      <td>Examples: Eye color, housing style, gender, ha...</td>\n",
       "      <td>Examples: Economic status, customer satisfacti...</td>\n",
       "    </tr>\n",
       "  </tbody>\n",
       "</table>\n",
       "</div>"
      ],
      "text/plain": [
       "                                        Nominal Data  \\\n",
       "0  Nominal data can’t be quantified, neither they...   \n",
       "1  Nominal data is qualitative data or categorica...   \n",
       "2  Examples: Eye color, housing style, gender, ha...   \n",
       "\n",
       "                                        Ordinal Data  \n",
       "0   Ordinal data gives some kind of sequential or...  \n",
       "1  Ordinal data is said to be “in-between” qualit...  \n",
       "2  Examples: Economic status, customer satisfacti...  "
      ]
     },
     "execution_count": 6,
     "metadata": {},
     "output_type": "execute_result"
    }
   ],
   "source": [
    "#                                                ANSWER 3 CONTINUE\n",
    "print(\" Difference between Nominal and Ordinal Data\")                                                \n",
    "import pandas as pd \n",
    "data1 = [['Nominal data can’t be quantified, neither they have any intrinsic ordering' ,' Ordinal data gives some kind of sequential order by their position on the scale'],\n",
    "        ['Nominal data is qualitative data or categorical data' , 'Ordinal data is said to be “in-between” qualitative data and quantitative data'],\n",
    "        ['Examples: Eye color, housing style, gender, hair color, religion, marital status, ethnicity, etc ' , 'Examples: Economic status, customer satisfaction, education level, letter grades, etc']]\n",
    "df1 = pd.DataFrame(data1,columns=['Nominal Data', ' Ordinal Data'])\n",
    "df1"
   ]
  },
  {
   "cell_type": "code",
   "execution_count": 7,
   "id": "b9a5441b-d136-4c64-8094-c7f1f59dce2f",
   "metadata": {},
   "outputs": [
    {
     "name": "stdout",
     "output_type": "stream",
     "text": [
      "Difference between Discrete and Continuous Data\n"
     ]
    },
    {
     "data": {
      "text/html": [
       "<div>\n",
       "<style scoped>\n",
       "    .dataframe tbody tr th:only-of-type {\n",
       "        vertical-align: middle;\n",
       "    }\n",
       "\n",
       "    .dataframe tbody tr th {\n",
       "        vertical-align: top;\n",
       "    }\n",
       "\n",
       "    .dataframe thead th {\n",
       "        text-align: right;\n",
       "    }\n",
       "</style>\n",
       "<table border=\"1\" class=\"dataframe\">\n",
       "  <thead>\n",
       "    <tr style=\"text-align: right;\">\n",
       "      <th></th>\n",
       "      <th>Discrete Data</th>\n",
       "      <th>Continuous Data</th>\n",
       "    </tr>\n",
       "  </thead>\n",
       "  <tbody>\n",
       "    <tr>\n",
       "      <th>0</th>\n",
       "      <td>Discrete data are countable and finite; they a...</td>\n",
       "      <td>Continuous data are measurable; they are in th...</td>\n",
       "    </tr>\n",
       "    <tr>\n",
       "      <th>1</th>\n",
       "      <td>Discrete data are represented mainly by bar gr...</td>\n",
       "      <td>Continuous data are represented in the form of...</td>\n",
       "    </tr>\n",
       "    <tr>\n",
       "      <th>2</th>\n",
       "      <td>Examples: Total students in a class, number of...</td>\n",
       "      <td>Example: Temperature of room, the weight of a ...</td>\n",
       "    </tr>\n",
       "  </tbody>\n",
       "</table>\n",
       "</div>"
      ],
      "text/plain": [
       "                                       Discrete Data  \\\n",
       "0  Discrete data are countable and finite; they a...   \n",
       "1  Discrete data are represented mainly by bar gr...   \n",
       "2  Examples: Total students in a class, number of...   \n",
       "\n",
       "                                     Continuous Data  \n",
       "0  Continuous data are measurable; they are in th...  \n",
       "1  Continuous data are represented in the form of...  \n",
       "2  Example: Temperature of room, the weight of a ...  "
      ]
     },
     "execution_count": 7,
     "metadata": {},
     "output_type": "execute_result"
    }
   ],
   "source": [
    "#                                               ANSWER 3 CONTINUE\n",
    "\n",
    "print(\"Difference between Discrete and Continuous Data\")\n",
    "data2 = [[ 'Discrete data are countable and finite; they are whole numbers or integers' , 'Continuous data are measurable; they are in the form of fractions or decimal'],\n",
    "         [ 'Discrete data are represented mainly by bar graphs' , 'Continuous data are represented in the form of a histogram'],\n",
    "         ['Examples: Total students in a class, number of days in a week, size of a shoe, etc' , 'Example: Temperature of room, the weight of a person, length of an object, etc']]\n",
    "df2 = pd.DataFrame(data2,columns=['Discrete Data' , 'Continuous Data'])\n",
    "df2"
   ]
  },
  {
   "cell_type": "code",
   "execution_count": 9,
   "id": "be88b6a4-3dca-4e6a-9c88-646228ff868d",
   "metadata": {},
   "outputs": [],
   "source": [
    "#                                  ANSWER 4\n",
    "# (i) Grading in exam: A+, A, B+, B, C+, C, D, E ---->  qualitative data types\n",
    "# (ii) Colour of mangoes: yellow, green, orange, red ----> qualitative data types\n",
    "# (iii) Height data of a class: [178.9, 179, 179.5, 176, 177.2, 178.3, 175.8,...] ----> quantitative data types\n",
    "# (iv) Number of mangoes exported by a farm: [500, 600, 478, 672, ...] ----> quantitative data types"
   ]
  },
  {
   "cell_type": "code",
   "execution_count": 10,
   "id": "58156f35-f1ee-4504-8c9a-79acb43cc422",
   "metadata": {},
   "outputs": [],
   "source": [
    "#                                 ANSWER 5\n",
    "# level of measurement is a classification that relates the values that are assigned to variables with each other. \n",
    "# Four Measurement Levels\n",
    "# Nominal scales contain the least amount of information. In nominal scales, the numbers assigned to each variable or observation are only used to classify the variable or observation. For example, a fund manager may choose to assign the number 1 to small-cap stocks, the number 2 to corporate bonds, the number 3 to derivatives, and so on.\n",
    "# Ordinal scales present more information than nominal scales and are, therefore, a higher level of measurement. In ordinal scales, there is an ordered relationship between the variable’s observations. For example, a list of 500 managers of mutual funds may be ranked by assigning the number 1 to the best-performing manager, the number 2 to the second best-performing manager, and so on.\n",
    "# interval scales are ordinal scales but with equivalent scale values from low to high intervals. For example, temperature measurement is an example of an interval scale: 60°C is colder than 65°C, and the temperature difference is the same as the difference between 50°C and 55°C. \n",
    "# Ratio scales are the most informative scales. Ratio scales provide rankings, assure equal differences between scale values, and have a true zero point. In essence, a ratio scale can be thought of as nominal, ordinal, and interval scales combined as one. For example, the measurement of money is an example of a ratio scale."
   ]
  },
  {
   "cell_type": "code",
   "execution_count": 12,
   "id": "58ca3e4e-0fa6-450f-823b-a18cecc745e5",
   "metadata": {},
   "outputs": [],
   "source": [
    "#                                           ANSWER 6 \n",
    "# Learning about the four levels of measurement allows statisticians and analysts to more efficiently plan for research and present their findings.\n",
    "# The second reason levels of measurement are important to know is because different statistical tests are appropriate for variables with different levels of measurement.\n",
    "# For example, chi-square tests of independence are most appropriate for nominal level data.  The Mann-Whitney U test is most appropriate for an ordinal level dependent variable and a nominal level independent variable.  An ANOVA is most appropriate for a continuous level dependent variable and a nominal level independent variable."
   ]
  },
  {
   "cell_type": "code",
   "execution_count": 13,
   "id": "7e70d1eb-4fc8-4c69-bfac-844c7bc86ef4",
   "metadata": {},
   "outputs": [
    {
     "name": "stdout",
     "output_type": "stream",
     "text": [
      " Difference between Nominal and Ordinal Data\n"
     ]
    },
    {
     "data": {
      "text/html": [
       "<div>\n",
       "<style scoped>\n",
       "    .dataframe tbody tr th:only-of-type {\n",
       "        vertical-align: middle;\n",
       "    }\n",
       "\n",
       "    .dataframe tbody tr th {\n",
       "        vertical-align: top;\n",
       "    }\n",
       "\n",
       "    .dataframe thead th {\n",
       "        text-align: right;\n",
       "    }\n",
       "</style>\n",
       "<table border=\"1\" class=\"dataframe\">\n",
       "  <thead>\n",
       "    <tr style=\"text-align: right;\">\n",
       "      <th></th>\n",
       "      <th>Nominal Data</th>\n",
       "      <th>Ordinal Data</th>\n",
       "    </tr>\n",
       "  </thead>\n",
       "  <tbody>\n",
       "    <tr>\n",
       "      <th>0</th>\n",
       "      <td>Nominal data can’t be quantified, neither they...</td>\n",
       "      <td>Ordinal data gives some kind of sequential or...</td>\n",
       "    </tr>\n",
       "    <tr>\n",
       "      <th>1</th>\n",
       "      <td>Nominal data is qualitative data or categorica...</td>\n",
       "      <td>Ordinal data is said to be “in-between” qualit...</td>\n",
       "    </tr>\n",
       "    <tr>\n",
       "      <th>2</th>\n",
       "      <td>Examples: Eye color, housing style, gender, ha...</td>\n",
       "      <td>Examples: Economic status, customer satisfacti...</td>\n",
       "    </tr>\n",
       "  </tbody>\n",
       "</table>\n",
       "</div>"
      ],
      "text/plain": [
       "                                        Nominal Data  \\\n",
       "0  Nominal data can’t be quantified, neither they...   \n",
       "1  Nominal data is qualitative data or categorica...   \n",
       "2  Examples: Eye color, housing style, gender, ha...   \n",
       "\n",
       "                                        Ordinal Data  \n",
       "0   Ordinal data gives some kind of sequential or...  \n",
       "1  Ordinal data is said to be “in-between” qualit...  \n",
       "2  Examples: Economic status, customer satisfacti...  "
      ]
     },
     "execution_count": 13,
     "metadata": {},
     "output_type": "execute_result"
    }
   ],
   "source": [
    "#                                             ANSWER 7                                                \n",
    "\n",
    "print(\" Difference between Nominal and Ordinal Data\")                                                \n",
    "import pandas as pd \n",
    "data1 = [['Nominal data can’t be quantified, neither they have any intrinsic ordering' ,' Ordinal data gives some kind of sequential order by their position on the scale'],\n",
    "        ['Nominal data is qualitative data or categorical data' , 'Ordinal data is said to be “in-between” qualitative data and quantitative data'],\n",
    "        ['Examples: Eye color, housing style, gender, hair color, religion, marital status, ethnicity, etc ' , 'Examples: Economic status, customer satisfaction, education level, letter grades, etc']]\n",
    "df1 = pd.DataFrame(data1,columns=['Nominal Data', ' Ordinal Data'])\n",
    "df1"
   ]
  },
  {
   "cell_type": "code",
   "execution_count": 1,
   "id": "febd8fb3-0726-4e8b-871d-9e43355d6794",
   "metadata": {},
   "outputs": [],
   "source": [
    "#                                                ANSWER 8\n",
    "# Histogram Plot"
   ]
  },
  {
   "cell_type": "code",
   "execution_count": 4,
   "id": "b20318ad-e9e5-4978-b63d-31e979482569",
   "metadata": {},
   "outputs": [
    {
     "name": "stdout",
     "output_type": "stream",
     "text": [
      " The difference between descriptive and inferential statistics \n"
     ]
    },
    {
     "data": {
      "text/html": [
       "<div>\n",
       "<style scoped>\n",
       "    .dataframe tbody tr th:only-of-type {\n",
       "        vertical-align: middle;\n",
       "    }\n",
       "\n",
       "    .dataframe tbody tr th {\n",
       "        vertical-align: top;\n",
       "    }\n",
       "\n",
       "    .dataframe thead th {\n",
       "        text-align: right;\n",
       "    }\n",
       "</style>\n",
       "<table border=\"1\" class=\"dataframe\">\n",
       "  <thead>\n",
       "    <tr style=\"text-align: right;\">\n",
       "      <th></th>\n",
       "      <th>Descriptive Statistics</th>\n",
       "      <th>Inferential statistics</th>\n",
       "    </tr>\n",
       "  </thead>\n",
       "  <tbody>\n",
       "    <tr>\n",
       "      <th>Definition</th>\n",
       "      <td>Descriptive statistics is used to describe the...</td>\n",
       "      <td>Inferential statistics uses various analytical...</td>\n",
       "    </tr>\n",
       "    <tr>\n",
       "      <th>uses</th>\n",
       "      <td>Organizes, describes and presents data in a me...</td>\n",
       "      <td>Tests, predicts, and compares data obtained fr...</td>\n",
       "    </tr>\n",
       "    <tr>\n",
       "      <th>Example</th>\n",
       "      <td>Suppose the scores of 100 students belonging t...</td>\n",
       "      <td>suppose the scores of the students of an entir...</td>\n",
       "    </tr>\n",
       "    <tr>\n",
       "      <th>Function</th>\n",
       "      <td>It explains the data, which is already known, ...</td>\n",
       "      <td>It attempts to reach the conclusion to learn a...</td>\n",
       "    </tr>\n",
       "  </tbody>\n",
       "</table>\n",
       "</div>"
      ],
      "text/plain": [
       "                                      Descriptive Statistics   \\\n",
       "Definition  Descriptive statistics is used to describe the...   \n",
       "uses        Organizes, describes and presents data in a me...   \n",
       "Example     Suppose the scores of 100 students belonging t...   \n",
       "Function    It explains the data, which is already known, ...   \n",
       "\n",
       "                                      Inferential statistics   \n",
       "Definition  Inferential statistics uses various analytical...  \n",
       "uses        Tests, predicts, and compares data obtained fr...  \n",
       "Example     suppose the scores of the students of an entir...  \n",
       "Function    It attempts to reach the conclusion to learn a...  "
      ]
     },
     "execution_count": 4,
     "metadata": {},
     "output_type": "execute_result"
    }
   ],
   "source": [
    "#                                                ANSWER 9\n",
    "print(\" The difference between descriptive and inferential statistics \")\n",
    "import pandas as pd \n",
    "index = ['Definition','uses','Example','Function']\n",
    "data2 = (['Descriptive statistics is used to describe the characteristics of the population using a sample','Inferential statistics uses various analytical tools to draw inferences about the population using samples'],\n",
    "         ['Organizes, describes and presents data in a meaningful way with the help of charts and graphs','Tests, predicts, and compares data obtained from various samples'],\n",
    "        ['Suppose the scores of 100 students belonging to a specific country are available. The performance of these students needs to be examined. This data by itself will not yield any valuable results. However, by using descriptive statistics, the spread of the marks can be obtained thus, giving a clear idea regarding the performance of each student' , 'suppose the scores of the students of an entire country need to be examined. Using a sample of, say 100 students, inferential statistics is used to make generalizations about the population'],\n",
    "        ['It explains the data, which is already known, to summarize sample','It attempts to reach the conclusion to learn about the population, that extends beyond the data available'])\n",
    "df2 = pd.DataFrame(data2,columns=[' Descriptive Statistics ', ' Inferential statistics '],index = index)\n",
    "df2"
   ]
  },
  {
   "cell_type": "code",
   "execution_count": 6,
   "id": "273a942f-fb8e-4233-9a33-b63061d444a1",
   "metadata": {},
   "outputs": [],
   "source": [
    "#                                            ANSWER 10\n",
    "# the three most common measures of central tendency are :\n",
    "# 1 ----> mean : The mean represents the average value of the dataset. It can be calculated as the sum of all the values in the dataset divided by the number of values.\n",
    "# 2 ----> median : Median is the middle value of the dataset in which the dataset is arranged in the ascending order or in descending order. When the dataset contains an even number of values, then the median value of the dataset can be found by taking the mean of the middle two values.\n",
    "# 3 ----> mode : The mode is the value that appears most frequently in a data set. A set of data may have one mode, more than one mode, or no mode at all.\n",
    "# the four main measures of variability are :\n",
    "# 1 ----> Range: the difference between the highest and lowest values\n",
    "# 2 ----> Interquartile range: the range of the middle half of a distribution\n",
    "# 3 ----> Standard deviation: average distance from the mean\n",
    "#         It represents the typical distance between each data point and the mean. Smaller values indicate that the data points cluster closer to the mean—the values in the dataset are relatively consistent.\n",
    "# 4 ----> Variance: average of squared distances from the mean.\n",
    "#         variance measures variability from the average or mean. It is calculated by taking the differences between each number in the data set and the mean, then squaring the differences to make them positive, and finally dividing the sum of the squares by the number of values in the data set."
   ]
  },
  {
   "cell_type": "code",
   "execution_count": null,
   "id": "0eae5455-bc46-4a84-84b1-aec773a97b6a",
   "metadata": {},
   "outputs": [],
   "source": []
  },
  {
   "cell_type": "code",
   "execution_count": null,
   "id": "0e82b80f-8e54-4d0c-9dee-4fbb208e6ee1",
   "metadata": {},
   "outputs": [],
   "source": []
  }
 ],
 "metadata": {
  "kernelspec": {
   "display_name": "Python 3 (ipykernel)",
   "language": "python",
   "name": "python3"
  },
  "language_info": {
   "codemirror_mode": {
    "name": "ipython",
    "version": 3
   },
   "file_extension": ".py",
   "mimetype": "text/x-python",
   "name": "python",
   "nbconvert_exporter": "python",
   "pygments_lexer": "ipython3",
   "version": "3.10.8"
  }
 },
 "nbformat": 4,
 "nbformat_minor": 5
}
